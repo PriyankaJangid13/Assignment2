{
 "cells": [
  {
   "cell_type": "markdown",
   "id": "e4d8b2f0",
   "metadata": {},
   "source": [
    "# set1"
   ]
  },
  {
   "cell_type": "markdown",
   "id": "c83a3759",
   "metadata": {},
   "source": [
    "# Q1"
   ]
  },
  {
   "cell_type": "code",
   "execution_count": 1,
   "id": "deb3de42",
   "metadata": {
    "ExecuteTime": {
     "end_time": "2023-02-02T11:37:58.826219Z",
     "start_time": "2023-02-02T11:37:38.642401Z"
    }
   },
   "outputs": [],
   "source": [
    "import pandas as pd \n",
    "import matplotlib.pyplot as plt"
   ]
  },
  {
   "cell_type": "code",
   "execution_count": 2,
   "id": "306f2477",
   "metadata": {
    "ExecuteTime": {
     "end_time": "2023-02-02T11:38:09.345669Z",
     "start_time": "2023-02-02T11:38:03.211042Z"
    }
   },
   "outputs": [],
   "source": [
    "df=pd.read_excel('data.csv.xlsx')"
   ]
  },
  {
   "cell_type": "code",
   "execution_count": 3,
   "id": "b19d1b30",
   "metadata": {
    "ExecuteTime": {
     "end_time": "2023-02-02T11:38:21.056470Z",
     "start_time": "2023-02-02T11:38:20.726252Z"
    }
   },
   "outputs": [
    {
     "data": {
      "text/html": [
       "<div>\n",
       "<style scoped>\n",
       "    .dataframe tbody tr th:only-of-type {\n",
       "        vertical-align: middle;\n",
       "    }\n",
       "\n",
       "    .dataframe tbody tr th {\n",
       "        vertical-align: top;\n",
       "    }\n",
       "\n",
       "    .dataframe thead th {\n",
       "        text-align: right;\n",
       "    }\n",
       "</style>\n",
       "<table border=\"1\" class=\"dataframe\">\n",
       "  <thead>\n",
       "    <tr style=\"text-align: right;\">\n",
       "      <th></th>\n",
       "      <th>Name of company</th>\n",
       "      <th>Measure X</th>\n",
       "    </tr>\n",
       "  </thead>\n",
       "  <tbody>\n",
       "    <tr>\n",
       "      <th>0</th>\n",
       "      <td>Allied Signal</td>\n",
       "      <td>0.2423</td>\n",
       "    </tr>\n",
       "    <tr>\n",
       "      <th>1</th>\n",
       "      <td>Bankers Trust</td>\n",
       "      <td>0.2553</td>\n",
       "    </tr>\n",
       "    <tr>\n",
       "      <th>2</th>\n",
       "      <td>General Mills</td>\n",
       "      <td>0.2541</td>\n",
       "    </tr>\n",
       "    <tr>\n",
       "      <th>3</th>\n",
       "      <td>ITT Industries</td>\n",
       "      <td>0.2414</td>\n",
       "    </tr>\n",
       "    <tr>\n",
       "      <th>4</th>\n",
       "      <td>J.P.Morgan &amp; Co.</td>\n",
       "      <td>0.2962</td>\n",
       "    </tr>\n",
       "  </tbody>\n",
       "</table>\n",
       "</div>"
      ],
      "text/plain": [
       "    Name of company  Measure X\n",
       "0     Allied Signal     0.2423\n",
       "1     Bankers Trust     0.2553\n",
       "2     General Mills     0.2541\n",
       "3    ITT Industries     0.2414\n",
       "4  J.P.Morgan & Co.     0.2962"
      ]
     },
     "execution_count": 3,
     "metadata": {},
     "output_type": "execute_result"
    }
   ],
   "source": [
    "df.head()"
   ]
  },
  {
   "cell_type": "code",
   "execution_count": 4,
   "id": "5aa87ef8",
   "metadata": {
    "ExecuteTime": {
     "end_time": "2023-02-02T11:38:29.661695Z",
     "start_time": "2023-02-02T11:38:29.589666Z"
    }
   },
   "outputs": [
    {
     "name": "stderr",
     "output_type": "stream",
     "text": [
      "C:\\Users\\my pc\\AppData\\Local\\Temp\\ipykernel_11044\\3698961737.py:1: FutureWarning: Dropping of nuisance columns in DataFrame reductions (with 'numeric_only=None') is deprecated; in a future version this will raise TypeError.  Select only valid columns before calling the reduction.\n",
      "  df.mean()\n"
     ]
    },
    {
     "data": {
      "text/plain": [
       "Measure X    0.332713\n",
       "dtype: float64"
      ]
     },
     "execution_count": 4,
     "metadata": {},
     "output_type": "execute_result"
    }
   ],
   "source": [
    "df.mean()"
   ]
  },
  {
   "cell_type": "code",
   "execution_count": 5,
   "id": "2efbfea8",
   "metadata": {
    "ExecuteTime": {
     "end_time": "2023-02-02T11:38:37.461181Z",
     "start_time": "2023-02-02T11:38:37.421152Z"
    }
   },
   "outputs": [
    {
     "name": "stderr",
     "output_type": "stream",
     "text": [
      "C:\\Users\\my pc\\AppData\\Local\\Temp\\ipykernel_11044\\3390915376.py:1: FutureWarning: Dropping of nuisance columns in DataFrame reductions (with 'numeric_only=None') is deprecated; in a future version this will raise TypeError.  Select only valid columns before calling the reduction.\n",
      "  df.std()\n"
     ]
    },
    {
     "data": {
      "text/plain": [
       "Measure X    0.169454\n",
       "dtype: float64"
      ]
     },
     "execution_count": 5,
     "metadata": {},
     "output_type": "execute_result"
    }
   ],
   "source": [
    "df.std()"
   ]
  },
  {
   "cell_type": "code",
   "execution_count": 6,
   "id": "94d7185d",
   "metadata": {
    "ExecuteTime": {
     "end_time": "2023-02-02T11:38:50.236495Z",
     "start_time": "2023-02-02T11:38:50.204491Z"
    }
   },
   "outputs": [
    {
     "name": "stderr",
     "output_type": "stream",
     "text": [
      "C:\\Users\\my pc\\AppData\\Local\\Temp\\ipykernel_11044\\1568254755.py:1: FutureWarning: Dropping of nuisance columns in DataFrame reductions (with 'numeric_only=None') is deprecated; in a future version this will raise TypeError.  Select only valid columns before calling the reduction.\n",
      "  df.var()\n"
     ]
    },
    {
     "data": {
      "text/plain": [
       "Measure X    0.028715\n",
       "dtype: float64"
      ]
     },
     "execution_count": 6,
     "metadata": {},
     "output_type": "execute_result"
    }
   ],
   "source": [
    "df.var()"
   ]
  },
  {
   "cell_type": "code",
   "execution_count": 7,
   "id": "74ef96f3",
   "metadata": {
    "ExecuteTime": {
     "end_time": "2023-02-02T11:39:06.177719Z",
     "start_time": "2023-02-02T11:39:04.388971Z"
    }
   },
   "outputs": [
    {
     "data": {
      "text/plain": [
       "<function matplotlib.pyplot.show(close=None, block=None)>"
      ]
     },
     "execution_count": 7,
     "metadata": {},
     "output_type": "execute_result"
    },
    {
     "data": {
      "image/png": "[encoded data removed]",
      "text/plain": [
       "<Figure size 640x480 with 1 Axes>"
      ]
     },
     "metadata": {},
     "output_type": "display_data"
    }
   ],
   "source": [
    "plt.boxplot(df['Measure X'],vert=True)\n",
    "plt.show"
   ]
  },
  {
   "cell_type": "markdown",
   "id": "778be485",
   "metadata": {},
   "source": [
    "# Set2"
   ]
  },
  {
   "cell_type": "markdown",
   "id": "ff0c4f97",
   "metadata": {},
   "source": [
    "# Q1"
   ]
  },
  {
   "cell_type": "code",
   "execution_count": 8,
   "id": "888f52a3",
   "metadata": {
    "ExecuteTime": {
     "end_time": "2023-02-02T11:40:00.752190Z",
     "start_time": "2023-02-02T11:39:44.878844Z"
    }
   },
   "outputs": [
    {
     "data": {
      "text/plain": [
       "1.0"
      ]
     },
     "execution_count": 8,
     "metadata": {},
     "output_type": "execute_result"
    }
   ],
   "source": [
    "#1.\tThe time required for servicing transmissions is normally distributed with mean=45 , standard deviation = 8\n",
    "# work start after 10 min so we should take target time 50 mins.\n",
    "from scipy import stats\n",
    "stats.norm.cdf(45,8)"
   ]
  },
  {
   "cell_type": "code",
   "execution_count": 9,
   "id": "b19bce66",
   "metadata": {
    "ExecuteTime": {
     "end_time": "2023-02-02T11:40:02.559376Z",
     "start_time": "2023-02-02T11:40:02.535373Z"
    }
   },
   "outputs": [
    {
     "data": {
      "text/plain": [
       "0.26598552904870054"
      ]
     },
     "execution_count": 9,
     "metadata": {},
     "output_type": "execute_result"
    }
   ],
   "source": [
    "1-stats.norm.cdf(50,45,8)"
   ]
  },
  {
   "cell_type": "markdown",
   "id": "9887768e",
   "metadata": {},
   "source": [
    "# Q2"
   ]
  },
  {
   "cell_type": "markdown",
   "id": "7a00700e",
   "metadata": {},
   "source": [
    "# A"
   ]
  },
  {
   "cell_type": "code",
   "execution_count": 1,
   "id": "e98e0bea",
   "metadata": {
    "ExecuteTime": {
     "end_time": "2023-02-02T11:48:49.067418Z",
     "start_time": "2023-02-02T11:48:45.657477Z"
    }
   },
   "outputs": [
    {
     "data": {
      "text/plain": [
       "1.0"
      ]
     },
     "execution_count": 1,
     "metadata": {},
     "output_type": "execute_result"
    }
   ],
   "source": [
    "#2.\tThe current age (in years) of 400 clerical employees at an insurance claims processing center is normally distributed with \n",
    "# mean =38, standard deviation = 6\n",
    "from scipy import stats\n",
    "stats.norm.cdf(38,6)"
   ]
  },
  {
   "cell_type": "code",
   "execution_count": 2,
   "id": "fbe886bb",
   "metadata": {
    "ExecuteTime": {
     "end_time": "2023-02-02T11:49:07.605950Z",
     "start_time": "2023-02-02T11:49:07.573949Z"
    }
   },
   "outputs": [
    {
     "data": {
      "text/plain": [
       "0.15865525393145707"
      ]
     },
     "execution_count": 2,
     "metadata": {},
     "output_type": "execute_result"
    }
   ],
   "source": [
    "#older than 44 \n",
    "#p>44\n",
    "1-stats.norm.cdf(44,38,6)"
   ]
  },
  {
   "cell_type": "code",
   "execution_count": 3,
   "id": "827c6c61",
   "metadata": {
    "ExecuteTime": {
     "end_time": "2023-02-02T11:49:19.150251Z",
     "start_time": "2023-02-02T11:49:19.118252Z"
    }
   },
   "outputs": [
    {
     "data": {
      "text/plain": [
       "0.3413447460685429"
      ]
     },
     "execution_count": 3,
     "metadata": {},
     "output_type": "execute_result"
    }
   ],
   "source": [
    "#p(38<x<44)\n",
    "stats.norm.cdf(44,38,6)-stats.norm.cdf(38,38,6)"
   ]
  },
  {
   "cell_type": "markdown",
   "id": "3e44d441",
   "metadata": {},
   "source": [
    "# False . As the probability of people between age 38 & 44 is more than probability of people older than 44"
   ]
  },
  {
   "cell_type": "markdown",
   "id": "fb65dbff",
   "metadata": {},
   "source": [
    "# B"
   ]
  },
  {
   "cell_type": "code",
   "execution_count": 4,
   "id": "3b672983",
   "metadata": {
    "ExecuteTime": {
     "end_time": "2023-02-02T11:56:39.622038Z",
     "start_time": "2023-02-02T11:56:39.589928Z"
    }
   },
   "outputs": [
    {
     "data": {
      "text/plain": [
       "0.09121121972586788"
      ]
     },
     "execution_count": 4,
     "metadata": {},
     "output_type": "execute_result"
    }
   ],
   "source": [
    "#under age 30\n",
    "#p<30\n",
    "stats.norm.cdf(30,38,6)"
   ]
  },
  {
   "cell_type": "code",
   "execution_count": 5,
   "id": "008c7674",
   "metadata": {
    "ExecuteTime": {
     "end_time": "2023-02-02T11:56:51.019326Z",
     "start_time": "2023-02-02T11:56:50.987330Z"
    }
   },
   "outputs": [
    {
     "data": {
      "text/plain": [
       "36.484487890347154"
      ]
     },
     "execution_count": 5,
     "metadata": {},
     "output_type": "execute_result"
    }
   ],
   "source": [
    "#no. of employees= stats.norm.cdf(30,38,6)*total no. of employees\n",
    "stats.norm.cdf(30,38,6)*400"
   ]
  },
  {
   "cell_type": "markdown",
   "id": "80f4aa8d",
   "metadata": {},
   "source": [
    "# true as we got 36"
   ]
  },
  {
   "cell_type": "markdown",
   "id": "fa651b95",
   "metadata": {},
   "source": [
    "# Q4"
   ]
  },
  {
   "cell_type": "code",
   "execution_count": 6,
   "id": "dba1df3b",
   "metadata": {
    "ExecuteTime": {
     "end_time": "2023-02-02T12:50:22.056267Z",
     "start_time": "2023-02-02T12:50:22.011584Z"
    }
   },
   "outputs": [],
   "source": [
    "from scipy import stats"
   ]
  },
  {
   "cell_type": "code",
   "execution_count": 7,
   "id": "04c0a3c9",
   "metadata": {
    "ExecuteTime": {
     "end_time": "2023-02-02T12:50:40.799186Z",
     "start_time": "2023-02-02T12:50:40.735185Z"
    }
   },
   "outputs": [
    {
     "data": {
      "text/plain": [
       "(48.48341392902199, 151.516586070978)"
      ]
     },
     "execution_count": 7,
     "metadata": {},
     "output_type": "execute_result"
    }
   ],
   "source": [
    "#mean=100\n",
    "#standard deviation=20\n",
    "stats.norm.interval(0.99,100,20)"
   ]
  },
  {
   "cell_type": "markdown",
   "id": "3693b938",
   "metadata": {},
   "source": [
    "# Q5"
   ]
  },
  {
   "cell_type": "code",
   "execution_count": 8,
   "id": "fae866dc",
   "metadata": {
    "ExecuteTime": {
     "end_time": "2023-02-02T12:52:08.073413Z",
     "start_time": "2023-02-02T12:52:08.049423Z"
    }
   },
   "outputs": [],
   "source": [
    "#5.\tConsider a company that has two different divisions. \n",
    "#profit1 ~ N(5, 3^2) and profit2 ~ N(7,4^2)  if we combine both we get N(5+7, 9+16)\n",
    "#N(12, 5^2)"
   ]
  },
  {
   "cell_type": "code",
   "execution_count": 9,
   "id": "f75a23e2",
   "metadata": {
    "ExecuteTime": {
     "end_time": "2023-02-02T12:52:32.945544Z",
     "start_time": "2023-02-02T12:52:32.921546Z"
    }
   },
   "outputs": [],
   "source": [
    "#Answer the following questions about the total profit of the company in Rupees. Assume that $1 = Rs. 45"
   ]
  },
  {
   "cell_type": "code",
   "execution_count": 10,
   "id": "2044a873",
   "metadata": {
    "ExecuteTime": {
     "end_time": "2023-02-02T12:52:52.928694Z",
     "start_time": "2023-02-02T12:52:52.904693Z"
    }
   },
   "outputs": [],
   "source": [
    "# mean=12 & sd=5"
   ]
  },
  {
   "cell_type": "code",
   "execution_count": 11,
   "id": "52d4ff80",
   "metadata": {
    "ExecuteTime": {
     "end_time": "2023-02-02T12:53:13.923569Z",
     "start_time": "2023-02-02T12:53:13.907590Z"
    }
   },
   "outputs": [
    {
     "data": {
      "text/plain": [
       "540"
      ]
     },
     "execution_count": 11,
     "metadata": {},
     "output_type": "execute_result"
    }
   ],
   "source": [
    "#mean\n",
    "12*45"
   ]
  },
  {
   "cell_type": "code",
   "execution_count": 13,
   "id": "d76c2438",
   "metadata": {
    "ExecuteTime": {
     "end_time": "2023-02-02T12:53:38.515232Z",
     "start_time": "2023-02-02T12:53:38.491231Z"
    }
   },
   "outputs": [
    {
     "data": {
      "text/plain": [
       "225"
      ]
     },
     "execution_count": 13,
     "metadata": {},
     "output_type": "execute_result"
    }
   ],
   "source": [
    "#sd\n",
    "5*45"
   ]
  },
  {
   "cell_type": "markdown",
   "id": "ae8f03bf",
   "metadata": {},
   "source": [
    "# 5A"
   ]
  },
  {
   "cell_type": "code",
   "execution_count": 14,
   "id": "22a865cb",
   "metadata": {
    "ExecuteTime": {
     "end_time": "2023-02-02T12:54:24.510802Z",
     "start_time": "2023-02-02T12:54:24.486799Z"
    }
   },
   "outputs": [],
   "source": [
    "from scipy import stats\n",
    "from scipy.stats import norm"
   ]
  },
  {
   "cell_type": "code",
   "execution_count": 15,
   "id": "47c303c6",
   "metadata": {
    "ExecuteTime": {
     "end_time": "2023-02-02T12:54:36.621489Z",
     "start_time": "2023-02-02T12:54:36.597486Z"
    }
   },
   "outputs": [
    {
     "data": {
      "text/plain": [
       "(99.00810347848784, 980.9918965215122)"
      ]
     },
     "execution_count": 15,
     "metadata": {},
     "output_type": "execute_result"
    }
   ],
   "source": [
    "stats.norm.interval(0.95,540,225) #it contains 95% probability for the annual profit of the company"
   ]
  },
  {
   "cell_type": "markdown",
   "id": "7a9afd1a",
   "metadata": {},
   "source": [
    "# 5B"
   ]
  },
  {
   "cell_type": "code",
   "execution_count": 16,
   "id": "41f1b8c7",
   "metadata": {
    "ExecuteTime": {
     "end_time": "2023-02-02T12:55:37.964036Z",
     "start_time": "2023-02-02T12:55:37.948068Z"
    }
   },
   "outputs": [],
   "source": [
    "#B.\tSpecify the 5th percentile of profit (in Rupees) for the company   \n",
    "# Z=-1.645 for 5th percentile"
   ]
  },
  {
   "cell_type": "code",
   "execution_count": 17,
   "id": "3db2e402",
   "metadata": {
    "ExecuteTime": {
     "end_time": "2023-02-02T12:55:51.826882Z",
     "start_time": "2023-02-02T12:55:51.802862Z"
    }
   },
   "outputs": [
    {
     "data": {
      "text/plain": [
       "169.875"
      ]
     },
     "execution_count": 17,
     "metadata": {},
     "output_type": "execute_result"
    }
   ],
   "source": [
    "#percentile\n",
    "540+(-1.645*225)"
   ]
  },
  {
   "cell_type": "code",
   "execution_count": 18,
   "id": "8202dfe2",
   "metadata": {
    "ExecuteTime": {
     "end_time": "2023-02-02T12:56:04.403516Z",
     "start_time": "2023-02-02T12:56:04.373852Z"
    }
   },
   "outputs": [],
   "source": [
    "#5th percentile value is 169.875 million"
   ]
  },
  {
   "cell_type": "markdown",
   "id": "ee2aea28",
   "metadata": {},
   "source": [
    "# 5C"
   ]
  },
  {
   "cell_type": "code",
   "execution_count": 19,
   "id": "9b524927",
   "metadata": {
    "ExecuteTime": {
     "end_time": "2023-02-02T12:56:49.101639Z",
     "start_time": "2023-02-02T12:56:49.085659Z"
    }
   },
   "outputs": [],
   "source": [
    "#C.\tWhich ‘ of the two divisions has a larger probability of making a loss in a given year?"
   ]
  },
  {
   "cell_type": "code",
   "execution_count": 20,
   "id": "355539dd",
   "metadata": {
    "ExecuteTime": {
     "end_time": "2023-02-02T12:57:03.257163Z",
     "start_time": "2023-02-02T12:57:03.232780Z"
    }
   },
   "outputs": [
    {
     "data": {
      "text/plain": [
       "0.0477903522728147"
      ]
     },
     "execution_count": 20,
     "metadata": {},
     "output_type": "execute_result"
    }
   ],
   "source": [
    "#a\n",
    "stats.norm.cdf(0,5,3)"
   ]
  },
  {
   "cell_type": "code",
   "execution_count": 21,
   "id": "aef28811",
   "metadata": {
    "ExecuteTime": {
     "end_time": "2023-02-02T12:57:17.680261Z",
     "start_time": "2023-02-02T12:57:17.656266Z"
    }
   },
   "outputs": [
    {
     "data": {
      "text/plain": [
       "0.040059156863817086"
      ]
     },
     "execution_count": 21,
     "metadata": {},
     "output_type": "execute_result"
    }
   ],
   "source": [
    "#b\n",
    "stats.norm.cdf(0,7,4)"
   ]
  },
  {
   "cell_type": "markdown",
   "id": "037bd921",
   "metadata": {},
   "source": [
    " # The divison with N(7, 4^2) has more probability of making a loss in given year"
   ]
  },
  {
   "cell_type": "markdown",
   "id": "8dce2948",
   "metadata": {},
   "source": [
    "# Set3"
   ]
  },
  {
   "cell_type": "markdown",
   "id": "2eb6f608",
   "metadata": {},
   "source": [
    "# Q8"
   ]
  },
  {
   "cell_type": "code",
   "execution_count": 22,
   "id": "46fa3dcd",
   "metadata": {
    "ExecuteTime": {
     "end_time": "2023-02-02T15:07:04.632879Z",
     "start_time": "2023-02-02T15:07:04.608880Z"
    }
   },
   "outputs": [],
   "source": [
    " # N=  z^2 (p * 1-p ) / E^2  \n",
    " #  Z – z score for 95 % \n",
    "# P is not given , so default value is 0.5 \n",
    "# E is margin of error  = 0.04 "
   ]
  },
  {
   "cell_type": "code",
   "execution_count": 23,
   "id": "96847ab3",
   "metadata": {
    "ExecuteTime": {
     "end_time": "2023-02-02T15:07:16.978861Z",
     "start_time": "2023-02-02T15:07:16.954548Z"
    }
   },
   "outputs": [
    {
     "data": {
      "text/plain": [
       "1.959963984540054"
      ]
     },
     "execution_count": 23,
     "metadata": {},
     "output_type": "execute_result"
    }
   ],
   "source": [
    "from scipy import stats  # for z score  x= (c.i + alpha/2)\n",
    "stats.norm.ppf(0.975)"
   ]
  },
  {
   "cell_type": "code",
   "execution_count": 24,
   "id": "d1f168dd",
   "metadata": {
    "ExecuteTime": {
     "end_time": "2023-02-02T15:07:31.127575Z",
     "start_time": "2023-02-02T15:07:31.095562Z"
    }
   },
   "outputs": [
    {
     "data": {
      "text/plain": [
       "600.2279407334571"
      ]
     },
     "execution_count": 24,
     "metadata": {},
     "output_type": "execute_result"
    }
   ],
   "source": [
    "(1.959963984540054*1.959963984540054*0.5*0.5)/(0.04*0.04)"
   ]
  },
  {
   "cell_type": "markdown",
   "id": "f1b8b63b",
   "metadata": {},
   "source": [
    "# Q9"
   ]
  },
  {
   "cell_type": "code",
   "execution_count": 25,
   "id": "8f242257",
   "metadata": {
    "ExecuteTime": {
     "end_time": "2023-02-02T15:08:05.921431Z",
     "start_time": "2023-02-02T15:08:05.905432Z"
    }
   },
   "outputs": [],
   "source": [
    "#N= z^2 (p * 1-p ) / E^2\n",
    "#Z – z score for 98 %\n",
    "#P is not given , so default value is 0.5\n",
    "#E is margin of error = 0.04"
   ]
  },
  {
   "cell_type": "code",
   "execution_count": 26,
   "id": "4fa4707c",
   "metadata": {
    "ExecuteTime": {
     "end_time": "2023-02-02T15:08:15.415736Z",
     "start_time": "2023-02-02T15:08:15.391734Z"
    }
   },
   "outputs": [
    {
     "data": {
      "text/plain": [
       "2.3263478740408408"
      ]
     },
     "execution_count": 26,
     "metadata": {},
     "output_type": "execute_result"
    }
   ],
   "source": [
    "from scipy import stats  # for z score  x= (c.i + alpha/2)\n",
    "stats.norm.ppf(0.99)"
   ]
  },
  {
   "cell_type": "code",
   "execution_count": 27,
   "id": "37cd5431",
   "metadata": {
    "ExecuteTime": {
     "end_time": "2023-02-02T15:08:28.248200Z",
     "start_time": "2023-02-02T15:08:28.214894Z"
    }
   },
   "outputs": [
    {
     "data": {
      "text/plain": [
       "845.6085048522405"
      ]
     },
     "execution_count": 27,
     "metadata": {},
     "output_type": "execute_result"
    }
   ],
   "source": [
    "(2.3263478740408408*2.3263478740408408*0.5*0.5)/(0.04*0.04) "
   ]
  },
  {
   "cell_type": "markdown",
   "id": "1e577e27",
   "metadata": {},
   "source": [
    "# Set4"
   ]
  },
  {
   "cell_type": "markdown",
   "id": "1b5d62f5",
   "metadata": {},
   "source": [
    "# Q4"
   ]
  },
  {
   "cell_type": "code",
   "execution_count": 28,
   "id": "ab02e55e",
   "metadata": {
    "ExecuteTime": {
     "end_time": "2023-02-02T15:32:58.543704Z",
     "start_time": "2023-02-02T15:32:56.302028Z"
    }
   },
   "outputs": [],
   "source": [
    "import pandas as pd\n",
    "from scipy import stats\n",
    "from scipy.stats import norm "
   ]
  },
  {
   "cell_type": "code",
   "execution_count": 29,
   "id": "7cd975ff",
   "metadata": {
    "ExecuteTime": {
     "end_time": "2023-02-02T15:33:08.269715Z",
     "start_time": "2023-02-02T15:33:08.256709Z"
    }
   },
   "outputs": [],
   "source": [
    "#Mean of population = 50 , sd of population = 40\n",
    "#Sample n= 100\n",
    "#If sample mean is between 45 & 55 no investigation\n",
    "z=(45-50)/(40/100**0.5)"
   ]
  },
  {
   "cell_type": "code",
   "execution_count": 30,
   "id": "d177fd6f",
   "metadata": {
    "ExecuteTime": {
     "end_time": "2023-02-02T15:33:22.168778Z",
     "start_time": "2023-02-02T15:33:22.150781Z"
    }
   },
   "outputs": [
    {
     "data": {
      "text/plain": [
       "-1.25"
      ]
     },
     "execution_count": 30,
     "metadata": {},
     "output_type": "execute_result"
    }
   ],
   "source": [
    "z"
   ]
  },
  {
   "cell_type": "code",
   "execution_count": 31,
   "id": "3caceff3",
   "metadata": {
    "ExecuteTime": {
     "end_time": "2023-02-02T15:33:35.743443Z",
     "start_time": "2023-02-02T15:33:35.710442Z"
    }
   },
   "outputs": [
    {
     "data": {
      "text/plain": [
       "1.25"
      ]
     },
     "execution_count": 31,
     "metadata": {},
     "output_type": "execute_result"
    }
   ],
   "source": [
    "# z score for 55 \n",
    "(55-50)/(40/100**0.5)"
   ]
  },
  {
   "cell_type": "code",
   "execution_count": 32,
   "id": "b5d9d5de",
   "metadata": {
    "ExecuteTime": {
     "end_time": "2023-02-02T15:33:44.732876Z",
     "start_time": "2023-02-02T15:33:44.709868Z"
    }
   },
   "outputs": [
    {
     "data": {
      "text/plain": [
       "0.7887004526662893"
      ]
     },
     "execution_count": 32,
     "metadata": {},
     "output_type": "execute_result"
    }
   ],
   "source": [
    "#for probability between 55 & 45 = p(55)-p(45)\n",
    "stats.norm.cdf(1.25)-stats.norm.cdf(-1.25)"
   ]
  },
  {
   "cell_type": "code",
   "execution_count": 33,
   "id": "fff6c7ff",
   "metadata": {
    "ExecuteTime": {
     "end_time": "2023-02-02T15:33:54.526955Z",
     "start_time": "2023-02-02T15:33:54.499944Z"
    }
   },
   "outputs": [
    {
     "data": {
      "text/plain": [
       "(45.01856599089951, 54.98143400910048)"
      ]
     },
     "execution_count": 33,
     "metadata": {},
     "output_type": "execute_result"
    }
   ],
   "source": [
    "stats.norm.interval(0.787,loc=50,scale=40/(100**0.5))"
   ]
  },
  {
   "cell_type": "code",
   "execution_count": 34,
   "id": "1844da15",
   "metadata": {
    "ExecuteTime": {
     "end_time": "2023-02-02T15:34:02.582323Z",
     "start_time": "2023-02-02T15:34:02.566320Z"
    }
   },
   "outputs": [
    {
     "data": {
      "text/plain": [
       "0.21130000000000004"
      ]
     },
     "execution_count": 34,
     "metadata": {},
     "output_type": "execute_result"
    }
   ],
   "source": [
    "# probability for investigation = 1 - p(no investigation ) { 1- ( P(55)-p(45))\n",
    "1-0.7887"
   ]
  },
  {
   "cell_type": "markdown",
   "id": "c7d31372",
   "metadata": {},
   "source": [
    "# Q4"
   ]
  },
  {
   "cell_type": "code",
   "execution_count": 35,
   "id": "33b90a50",
   "metadata": {
    "ExecuteTime": {
     "end_time": "2023-02-02T15:34:37.675923Z",
     "start_time": "2023-02-02T15:34:37.657925Z"
    }
   },
   "outputs": [],
   "source": [
    "# Then probability of not investigation is 95 %  as probability of investigation is 5% "
   ]
  },
  {
   "cell_type": "code",
   "execution_count": 36,
   "id": "027becd1",
   "metadata": {
    "ExecuteTime": {
     "end_time": "2023-02-02T15:34:47.609084Z",
     "start_time": "2023-02-02T15:34:47.587086Z"
    }
   },
   "outputs": [],
   "source": [
    "# so we should change the value of sample so that the output of probability between 55 & 45 is 95% \n",
    "# by trial & error "
   ]
  },
  {
   "cell_type": "code",
   "execution_count": 37,
   "id": "b4c50bfe",
   "metadata": {
    "ExecuteTime": {
     "end_time": "2023-02-02T15:34:56.040092Z",
     "start_time": "2023-02-02T15:34:56.023086Z"
    }
   },
   "outputs": [
    {
     "data": {
      "text/plain": [
       "-1.964529205687714"
      ]
     },
     "execution_count": 37,
     "metadata": {},
     "output_type": "execute_result"
    }
   ],
   "source": [
    "(45-50)/(40/247**0.5)"
   ]
  },
  {
   "cell_type": "code",
   "execution_count": 38,
   "id": "f670eb44",
   "metadata": {
    "ExecuteTime": {
     "end_time": "2023-02-02T15:35:06.140018Z",
     "start_time": "2023-02-02T15:35:06.118016Z"
    }
   },
   "outputs": [
    {
     "data": {
      "text/plain": [
       "1.964529205687714"
      ]
     },
     "execution_count": 38,
     "metadata": {},
     "output_type": "execute_result"
    }
   ],
   "source": [
    "(55-50)/(40/247**0.5) "
   ]
  },
  {
   "cell_type": "code",
   "execution_count": 39,
   "id": "aa88af14",
   "metadata": {
    "ExecuteTime": {
     "end_time": "2023-02-02T15:35:16.298184Z",
     "start_time": "2023-02-02T15:35:16.268162Z"
    }
   },
   "outputs": [
    {
     "data": {
      "text/plain": [
       "0.9505312472313343"
      ]
     },
     "execution_count": 39,
     "metadata": {},
     "output_type": "execute_result"
    }
   ],
   "source": [
    "stats.norm.cdf(1.964529205687714)-stats.norm.cdf(-1.964529205687714)"
   ]
  },
  {
   "cell_type": "code",
   "execution_count": 40,
   "id": "234e5f14",
   "metadata": {
    "ExecuteTime": {
     "end_time": "2023-02-02T15:35:25.793776Z",
     "start_time": "2023-02-02T15:35:25.761775Z"
    }
   },
   "outputs": [
    {
     "data": {
      "text/plain": [
       "0.04946875276866569"
      ]
     },
     "execution_count": 40,
     "metadata": {},
     "output_type": "execute_result"
    }
   ],
   "source": [
    "1-0.9505312472313343"
   ]
  },
  {
   "cell_type": "code",
   "execution_count": null,
   "id": "22cffd85",
   "metadata": {},
   "outputs": [],
   "source": []
  }
 ],
 "metadata": {
  "kernelspec": {
   "display_name": "Python 3 (ipykernel)",
   "language": "python",
   "name": "python3"
  },
  "language_info": {
   "codemirror_mode": {
    "name": "ipython",
    "version": 3
   },
   "file_extension": ".py",
   "mimetype": "text/x-python",
   "name": "python",
   "nbconvert_exporter": "python",
   "pygments_lexer": "ipython3",
   "version": "3.9.13"
  }
 },
 "nbformat": 4,
 "nbformat_minor": 5
}
